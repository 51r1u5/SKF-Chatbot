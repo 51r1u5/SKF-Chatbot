{
 "cells": [
  {
   "cell_type": "code",
   "execution_count": 1,
   "metadata": {},
   "outputs": [],
   "source": [
    "import json\n",
    "import csv\n",
    "with open(\"data.json\",encoding='utf-8') as read_file:\n",
    "        data = json.load(read_file)"
   ]
  },
  {
   "cell_type": "code",
   "execution_count": 2,
   "metadata": {},
   "outputs": [],
   "source": [
    "a=data['items']\n",
    "title=[]\n",
    "for d in a:\n",
    "\ttitle.append((d['title']))\n",
    "\t\n",
    "ques=[]\n",
    "sol=[]\n",
    "code=[]"
   ]
  },
  {
   "cell_type": "code",
   "execution_count": 21,
   "metadata": {},
   "outputs": [
    {
     "name": "stdout",
     "output_type": "stream",
     "text": [
      "['Filename injection Path traversel', 'xss injection', 'Command injection', 'Cross site request forgery', 'XXE injections', 'X Path injections', 'XML injection', 'XSLT injections', 'External DTD parsing', 'LDAP injection']\n"
     ]
    }
   ],
   "source": [
    "print(title[:10])"
   ]
  },
  {
   "cell_type": "code",
   "execution_count": 4,
   "metadata": {},
   "outputs": [],
   "source": [
    "for t in title:\n",
    "\tques.append(\"What is \"+ t + \" ?\")\n",
    "\tques.append(\"What does \"+ t + \" mean ?\")\n",
    "\tques.append(\"Tell me something about \"+ t + \" ?\")\n",
    "\tques.append(t)\n",
    "\tques.append(\"Explain \" + t +\" ?\")\n",
    "\tques.append(\"Elaborate \" + t +\" ?\")\n",
    "\tques.append(\"Can you tell me about \" + t + \" ?\")\n",
    "\tques.append(\"What do you know about \" + t + \" ?\")\n",
    "\tques.append(\"What can you tell me about \" + t + \" ?\")\n",
    "\tques.append(\"I want to know about XSS \" + t )\n",
    "\tques.append(\"Do you have information about \" + t + \" ?\")"
   ]
  },
  {
   "cell_type": "code",
   "execution_count": 24,
   "metadata": {},
   "outputs": [
    {
     "name": "stdout",
     "output_type": "stream",
     "text": [
      "['What is Filename injection Path traversel ?', 'What does Filename injection Path traversel mean ?', 'Tell me something about Filename injection Path traversel ?', 'Filename injection Path traversel', 'Explain Filename injection Path traversel ?', 'Elaborate Filename injection Path traversel ?', 'Can you tell me about Filename injection Path traversel ?', 'What do you know about Filename injection Path traversel ?', 'What can you tell me about Filename injection Path traversel ?', 'I want to know about XSS Filename injection Path traversel']\n"
     ]
    }
   ],
   "source": [
    "print(ques[:10])"
   ]
  },
  {
   "cell_type": "code",
   "execution_count": 6,
   "metadata": {},
   "outputs": [],
   "source": [
    "for t in title:\n",
    "        sol.append(\"How to solve \"+ t + \" ?\")\n",
    "        sol.append(\"How to resolve \"+ t + \" ?\")\n",
    "        sol.append(\"How to mitigate \"+ t + \" ?\")\n",
    "        sol.append(\"Solution for \"+ t)\n",
    "        sol.append(\"Provide me some Solution for \"+ t)\n",
    "        sol.append(\"mitigation for \"+ t)\n",
    "        sol.append(\"How to stop \"+ t + \" ?\")\n",
    "        sol.append(\"How to defend \"+ t + \" ?\")\n",
    "        sol.append(\"How to get secured against \"+ t + \" ?\")\n",
    "        sol.append(\"Solution, \"+t)"
   ]
  },
  {
   "cell_type": "code",
   "execution_count": 22,
   "metadata": {},
   "outputs": [
    {
     "name": "stdout",
     "output_type": "stream",
     "text": [
      "['How to solve Filename injection Path traversel ?', 'How to resolve Filename injection Path traversel ?', 'How to mitigate Filename injection Path traversel ?', 'Solution for Filename injection Path traversel', 'Provide me some Solution for Filename injection Path traversel', 'mitigation for Filename injection Path traversel', 'How to stop Filename injection Path traversel ?', 'How to defend Filename injection Path traversel ?', 'How to get secured against Filename injection Path traversel ?', 'Solution, Filename injection Path traversel']\n"
     ]
    }
   ],
   "source": [
    "print(sol[:10])"
   ]
  },
  {
   "cell_type": "code",
   "execution_count": 8,
   "metadata": {},
   "outputs": [],
   "source": [
    "for t in title:\n",
    "        code.append(\"Give me some sample code of \"+ t )\n",
    "        code.append(\"Code example of \"+ t + \" ?\")\n",
    "        code.append(\"Code of \"+ t )"
   ]
  },
  {
   "cell_type": "code",
   "execution_count": 23,
   "metadata": {},
   "outputs": [
    {
     "name": "stdout",
     "output_type": "stream",
     "text": [
      "['Give me some sample code of Filename injection Path traversel', 'Code example of Filename injection Path traversel ?', 'Code of Filename injection Path traversel', 'Give me some sample code of xss injection', 'Code example of xss injection ?', 'Code of xss injection', 'Give me some sample code of Command injection', 'Code example of Command injection ?', 'Code of Command injection', 'Give me some sample code of Cross site request forgery']\n"
     ]
    }
   ],
   "source": [
    "print(code[:10])"
   ]
  },
  {
   "cell_type": "code",
   "execution_count": 10,
   "metadata": {},
   "outputs": [],
   "source": [
    "file=open(\"intent_data.csv\",\"x\")"
   ]
  },
  {
   "cell_type": "code",
   "execution_count": 11,
   "metadata": {},
   "outputs": [],
   "source": [
    "file.write('class, question\\n')\n",
    "for x in ques:\n",
    "\t\tx=x.replace(\",\",\"\")\n",
    "\t\tfile.write('Description, '+x+\"\\n\")\t \n"
   ]
  },
  {
   "cell_type": "code",
   "execution_count": 12,
   "metadata": {},
   "outputs": [],
   "source": [
    "for y in sol:\n",
    "\t\ty=y.replace(\",\",\"\")\n",
    "\t\tfile.write('Solution, '+y+\"\\n\")\n"
   ]
  },
  {
   "cell_type": "code",
   "execution_count": 13,
   "metadata": {},
   "outputs": [],
   "source": [
    "\n",
    "for z in code:\n",
    "\t\tz=z.replace(\",\",\"\")\n",
    "\t\tfile.write('Code, '+z+\"\\n\")"
   ]
  },
  {
   "cell_type": "code",
   "execution_count": 14,
   "metadata": {},
   "outputs": [],
   "source": [
    "file.close()"
   ]
  },
  {
   "cell_type": "code",
   "execution_count": 27,
   "metadata": {},
   "outputs": [
    {
     "name": "stdout",
     "output_type": "stream",
     "text": [
      "['class', ' question']\n",
      "['Description', ' What is Filename injection Path traversel ?']\n",
      "['Description', ' What does Filename injection Path traversel mean ?']\n",
      "['Description', ' Tell me something about Filename injection Path traversel ?']\n",
      "['Description', ' Filename injection Path traversel']\n",
      "['Description', ' Explain Filename injection Path traversel ?']\n",
      "['Description', ' Elaborate Filename injection Path traversel ?']\n",
      "['Description', ' Can you tell me about Filename injection Path traversel ?']\n",
      "['Description', ' What do you know about Filename injection Path traversel ?']\n",
      "['Description', ' What can you tell me about Filename injection Path traversel ?']\n"
     ]
    }
   ],
   "source": [
    " with open('intent_data.csv', 'r') as csvFile:\n",
    "    reader = csv.reader(csvFile)\n",
    "    for i,row in enumerate(reader):\n",
    "        print(row)\n",
    "        if(i >= 9):\n",
    "            break"
   ]
  },
  {
   "cell_type": "code",
   "execution_count": null,
   "metadata": {},
   "outputs": [],
   "source": []
  }
 ],
 "metadata": {
  "kernelspec": {
   "display_name": "Python 3",
   "language": "python",
   "name": "python3"
  },
  "language_info": {
   "codemirror_mode": {
    "name": "ipython",
    "version": 3
   },
   "file_extension": ".py",
   "mimetype": "text/x-python",
   "name": "python",
   "nbconvert_exporter": "python",
   "pygments_lexer": "ipython3",
   "version": "3.6.5"
  }
 },
 "nbformat": 4,
 "nbformat_minor": 2
}
